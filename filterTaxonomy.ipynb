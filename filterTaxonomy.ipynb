{
 "cells": [
  {
   "cell_type": "code",
   "execution_count": 28,
   "metadata": {
    "collapsed": false
   },
   "outputs": [],
   "source": [
    "taxofile = open('/home/angel/Downloads/ncbi_database/sequence_gi_taxonomy.txt','r')\n",
    "otusfile = open('/home/angel/references/otus_99/sequence_stripped_otus.txt','r')\n",
    "\n",
    "taxo_lines = taxofile.readlines()\n",
    "otus_lines = otusfile.readlines()\n",
    "\n",
    "taxonomy = {}\n",
    "for line in taxo_lines:\n",
    "    words = line.strip().split('\\t')\n",
    "    taxonomy[words[0]] = words[1]\n",
    "\n",
    "otus = {}\n",
    "for line in otus_lines:\n",
    "    words = line.strip().split('\\t')\n",
    "    if words[0][:6] == 'denovo':\n",
    "        title = words[0]\n",
    "        otus[title] = words[1:]\n",
    "    else:\n",
    "        otus[title] = otus[title] + words"
   ]
  },
  {
   "cell_type": "code",
   "execution_count": 29,
   "metadata": {
    "collapsed": false
   },
   "outputs": [],
   "source": [
    "sequences = []\n",
    "for ot in otus:\n",
    "    NA_count = {}\n",
    "    for seq in otus[ot]:\n",
    "        if seq in taxonomy:\n",
    "            NA_count[seq] = taxonomy[seq].count('NA')\n",
    "    min_val1 = min(NA_count.itervalues())\n",
    "    picked_seqs1 = [k for k, v in NA_count.iteritems() if v == min_val1]\n",
    "    uncultured_count = {}\n",
    "    for seq in picked_seqs1:\n",
    "        uncultured_count[seq] = taxonomy[seq].count('uncultured')\n",
    "    min_val2 = min(uncultured_count.itervalues())\n",
    "    picked_seqs2 = [k for k, v in uncultured_count.iteritems() if v == min_val2]\n",
    "    like_count = {}\n",
    "    for seq in picked_seqs2:\n",
    "        like_count[seq] = taxonomy[seq].count('like')\n",
    "    min_val3 = min(like_count.itervalues())\n",
    "    picked_seqs3 = [k for k, v in like_count.iteritems() if v == min_val3]\n",
    "    sp_count = {}\n",
    "    for seq in picked_seqs3:\n",
    "        sp_count[seq] = taxonomy[seq].count('sp.')\n",
    "    min_val4 = min(sp_count.itervalues())\n",
    "    picked_seqs4 = [k for k, v in sp_count.iteritems() if v == min_val4]\n",
    "    picked_seqs = []\n",
    "    for seq in otus[ot]:\n",
    "        if seq in picked_seqs4:\n",
    "            picked_seqs.append(seq)\n",
    "    sequences.append(picked_seqs)\n",
    "    del NA_count\n",
    "    del uncultured_count\n",
    "    del like_count\n",
    "    del sp_count"
   ]
  },
  {
   "cell_type": "code",
   "execution_count": 30,
   "metadata": {
    "collapsed": true
   },
   "outputs": [],
   "source": [
    "fasta = open('/home/angel/Downloads/ncbi_database/sequence_stripped.fasta','r')\n",
    "lines = fasta.readlines()\n",
    "dictionary = {}\n",
    "for line in lines:\n",
    "    if line[0] == '>':\n",
    "        title = line.strip()[1:]\n",
    "        dictionary[title] = ''\n",
    "    else:\n",
    "        dictionary[title] = dictionary[title] + line.strip()"
   ]
  },
  {
   "cell_type": "code",
   "execution_count": 31,
   "metadata": {
    "collapsed": false
   },
   "outputs": [],
   "source": [
    "rep = {}\n",
    "for sequence in sequences:\n",
    "    rep[sequence[0]] = dictionary[sequence[0]]"
   ]
  },
  {
   "cell_type": "code",
   "execution_count": 32,
   "metadata": {
    "collapsed": false
   },
   "outputs": [],
   "source": [
    "rep_fasta = open('/home/angel/Downloads/ncbi_database/sequence_rep_99.fasta','w')\n",
    "for sequence in rep:\n",
    "    rep_fasta.write('>' + sequence + '\\n')\n",
    "    rep_fasta.write(rep[sequence] + '\\n')\n",
    "rep_fasta.close()"
   ]
  },
  {
   "cell_type": "code",
   "execution_count": 33,
   "metadata": {
    "collapsed": true
   },
   "outputs": [],
   "source": [
    "taxofile.close()\n",
    "otusfile.close()\n",
    "fasta.close()"
   ]
  },
  {
   "cell_type": "code",
   "execution_count": null,
   "metadata": {
    "collapsed": true
   },
   "outputs": [],
   "source": []
  }
 ],
 "metadata": {
  "kernelspec": {
   "display_name": "Python 2",
   "language": "python",
   "name": "python2"
  },
  "language_info": {
   "codemirror_mode": {
    "name": "ipython",
    "version": 2
   },
   "file_extension": ".py",
   "mimetype": "text/x-python",
   "name": "python",
   "nbconvert_exporter": "python",
   "pygments_lexer": "ipython2",
   "version": "2.7.11"
  }
 },
 "nbformat": 4,
 "nbformat_minor": 0
}
