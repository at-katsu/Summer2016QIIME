{
 "cells": [
  {
   "cell_type": "code",
   "execution_count": 1,
   "metadata": {
    "collapsed": true
   },
   "outputs": [],
   "source": [
    "filein = open('bdiv_even8000/weighted_unifrac_pc.txt','r')\n",
    "line = filein.readline()\n",
    "\n",
    "coordinates = {}\n",
    "\n",
    "while True:\n",
    "    if line == '':\n",
    "        break\n",
    "    words = line.strip().split()\n",
    "    if words[0] == 'Eigvals':\n",
    "        eigvals = filein.readline().strip().split()\n",
    "    elif words[0] == 'Proportion':\n",
    "        props = filein.readline().strip().split()\n",
    "    elif words[0][:2] == 'BT' or words[0][:2] == 'Bt':\n",
    "        coordinates[words[0]] = words[1:]\n",
    "    line = filein.readline().strip()"
   ]
  },
  {
   "cell_type": "code",
   "execution_count": 2,
   "metadata": {
    "collapsed": true
   },
   "outputs": [],
   "source": [
    "categories = {}\n",
    "for i in range(1,7):\n",
    "    categories['BT.Diatoms.Number.'+str(i)] = 'Site 2.Upstream'\n",
    "\n",
    "categories['BT.Diatoms.Number.7'] = 'Site 1.Most Upstream Tile'\n",
    "\n",
    "for i in range(8,12):\n",
    "    categories['BT.Diatoms.Number.'+str(i)] = 'Site 3.Upstream of RIX'\n",
    "\n",
    "categories['BT.Diatoms.Number.12'] = 'Site 4.At RIX Outflow'\n",
    "categories['BT.Diatoms.Number.13'] = 'Site 4.At RIX Outflow'\n",
    "\n",
    "for i in range(14,17):\n",
    "    categories['BT.Diatoms.Number.'+str(i)] = 'Site 5.Downstream'"
   ]
  },
  {
   "cell_type": "code",
   "execution_count": 3,
   "metadata": {
    "collapsed": true
   },
   "outputs": [],
   "source": [
    "from sklearn.preprocessing import LabelEncoder\n",
    "enc = LabelEncoder()\n",
    "label_encoder = enc.fit(list(categories.values()))\n",
    "y = label_encoder.transform(list(categories.values())) + 1\n",
    "labels = dict(zip(y, list(categories.values())))"
   ]
  },
  {
   "cell_type": "code",
   "execution_count": 4,
   "metadata": {
    "collapsed": true
   },
   "outputs": [],
   "source": [
    "import numpy as np\n",
    "import plotly.plotly as py\n",
    "from plotly.graph_objs import *\n",
    "import plotly.tools as tls"
   ]
  },
  {
   "cell_type": "code",
   "execution_count": 5,
   "metadata": {
    "collapsed": false
   },
   "outputs": [
    {
     "data": {
      "text/html": [
       "<iframe id=\"igraph\" scrolling=\"no\" style=\"border:none;\" seamless=\"seamless\" src=\"https://plot.ly/~at.katsu/404.embed\" height=\"525px\" width=\"100%\"></iframe>"
      ],
      "text/plain": [
       "<plotly.tools.PlotlyDisplay object>"
      ]
     },
     "execution_count": 5,
     "metadata": {},
     "output_type": "execute_result"
    }
   ],
   "source": [
    "import colorlover as cl\n",
    "colors =  cl.scales['7']['seq']['YlGnBu']\n",
    "\n",
    "traces = []\n",
    "for cl in range(1,len(labels)+1):\n",
    "    trace = Scatter3d(\n",
    "        x=[item[0] for item in [coordinates[x] for x in [sample for sample, site in categories.items() if site == labels[cl]]]],\n",
    "        y=[item[1] for item in [coordinates[x] for x in [sample for sample, site in categories.items() if site == labels[cl]]]],\n",
    "        z=[item[2] for item in [coordinates[x] for x in [sample for sample, site in categories.items() if site == labels[cl]]]],\n",
    "        mode='markers',\n",
    "        name=labels[cl],\n",
    "        text=[sample for sample, site in categories.items() if site == labels[cl]],\n",
    "        marker=Marker(\n",
    "            size=8,\n",
    "            color=colors[cl+1],\n",
    "            opacity=1),\n",
    "        hoverinfo='text+name'\n",
    "    )\n",
    "    traces.append(trace)\n",
    "\n",
    "data=Data(traces)\n",
    "\n",
    "layout=Layout(\n",
    "    showlegend=True,\n",
    "    scene=Scene(\n",
    "        xaxis=XAxis(title='PCo1', showgrid=False,\n",
    "                   showline=False, zeroline=True),\n",
    "        yaxis=YAxis(title='PCo2', showgrid=False,\n",
    "                   showline=False, zeroline=True),\n",
    "        zaxis=ZAxis(title='PCo3', showgrid=False,\n",
    "                   showline=False, zeroline=True)),\n",
    "    title='PCoA weighted (unifrac)'\n",
    ")\n",
    "\n",
    "fig = Figure(data=data, layout=layout)\n",
    "py.iplot(fig)"
   ]
  },
  {
   "cell_type": "code",
   "execution_count": null,
   "metadata": {
    "collapsed": true
   },
   "outputs": [],
   "source": []
  }
 ],
 "metadata": {
  "kernelspec": {
   "display_name": "Python 2",
   "language": "python",
   "name": "python2"
  },
  "language_info": {
   "codemirror_mode": {
    "name": "ipython",
    "version": 2
   },
   "file_extension": ".py",
   "mimetype": "text/x-python",
   "name": "python",
   "nbconvert_exporter": "python",
   "pygments_lexer": "ipython2",
   "version": "2.7.11"
  }
 },
 "nbformat": 4,
 "nbformat_minor": 0
}
