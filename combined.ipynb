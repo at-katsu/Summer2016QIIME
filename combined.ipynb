{
 "cells": [
  {
   "cell_type": "code",
   "execution_count": 2,
   "metadata": {
    "collapsed": false
   },
   "outputs": [
    {
     "name": "stdout",
     "output_type": "stream",
     "text": [
      "No errors or warnings were found in mapping file.\r\n"
     ]
    }
   ],
   "source": [
    "!validate_mapping_file.py -o vmf-map2/ -m /home/angel/Documents/063015MLHd512F-mapping2.txt"
   ]
  },
  {
   "cell_type": "code",
   "execution_count": 4,
   "metadata": {
    "collapsed": true
   },
   "outputs": [],
   "source": [
    "!split_libraries.py -o slout2/ -f /home/angel/Documents/063015MLHd512F-full.fasta -q /home/angel/Documents/063015MLHd512F-full.qual -m /home/angel/Documents/063015MLHd512F-mapping2.txt -b 8 -n 2000000"
   ]
  },
  {
   "cell_type": "code",
   "execution_count": 5,
   "metadata": {
    "collapsed": true
   },
   "outputs": [],
   "source": [
    "!cat slout1/seqs.fna slout2/seqs.fna > combined_seqs.fna"
   ]
  },
  {
   "cell_type": "code",
   "execution_count": 9,
   "metadata": {
    "collapsed": true
   },
   "outputs": [],
   "source": [
    "!pick_open_reference_otus.py -o otus_blast_combined2/ -i combined_seqs.fna -r /home/angel/references/SILVA123_QIIME_release/rep_set/rep_set_18S_only/99/99_otus_18S.fasta -p blast_pickOTU.txt -aO 32"
   ]
  },
  {
   "cell_type": "code",
   "execution_count": 12,
   "metadata": {
    "collapsed": true
   },
   "outputs": [],
   "source": [
    "!pick_open_reference_otus.py -o otus_blast_combined_ncbi/ -i combined_seqs.fna -r /home/angel/Downloads/ncbi_database/sequence_rep_99.fasta -p blast_ncbi_pickOTU.txt -aO 32"
   ]
  },
  {
   "cell_type": "code",
   "execution_count": 13,
   "metadata": {
    "collapsed": false,
    "scrolled": true
   },
   "outputs": [
    {
     "name": "stdout",
     "output_type": "stream",
     "text": [
      "Num samples: 21\r\n",
      "Num observations: 9499\r\n",
      "Total count: 2615250\r\n",
      "Table density (fraction of non-zero values): 0.143\r\n",
      "\r\n",
      "Counts/sample summary:\r\n",
      " Min: 26253.0\r\n",
      " Max: 224376.0\r\n",
      " Median: 147911.000\r\n",
      " Mean: 124535.714\r\n",
      " Std. dev.: 59813.524\r\n",
      " Sample Metadata Categories: None provided\r\n",
      " Observation Metadata Categories: taxonomy\r\n",
      "\r\n",
      "Counts/sample detail:\r\n",
      "BT.Diatoms.Number.16: 26253.0\r\n",
      "BT.Diatoms.Number.17: 28323.0\r\n",
      "BT.Diatoms.Number.13: 40642.0\r\n",
      "BT.Diatoms.Number.18: 44058.0\r\n",
      "BT.Diatoms.Number.11: 51161.0\r\n",
      "BT.Diatoms.Number.12: 72541.0\r\n",
      "BT.Diatoms.Number.3: 99783.0\r\n",
      "Bt.Diatoms.6: 104711.0\r\n",
      "Bt.Diatoms.8: 105411.0\r\n",
      "Bt.Diatoms.1: 119015.0\r\n",
      "BT.Diatoms.Number.8: 147911.0\r\n",
      "BT.Diatoms.Number.2: 159728.0\r\n",
      "BT.Diatoms.Number.14: 159876.0\r\n",
      "BT.Diatoms.Number.4: 160088.0\r\n",
      "BT.Diatoms.Number.6: 162155.0\r\n",
      "BT.Diatoms.Number.1: 167028.0\r\n",
      "BT.Diatoms.Number.5: 170205.0\r\n",
      "BT.Diatoms.Number.15: 179814.0\r\n",
      "BT.Diatoms.Number.10: 182979.0\r\n",
      "BT.Diatoms.Number.7: 209192.0\r\n",
      "BT.Diatoms.Number.9: 224376.0\r\n"
     ]
    }
   ],
   "source": [
    "!biom summarize-table -i otus_blast_combined_ncbi/otu_table_mc2_w_tax_no_pynast_failures.biom"
   ]
  },
  {
   "cell_type": "code",
   "execution_count": 14,
   "metadata": {
    "collapsed": false
   },
   "outputs": [
    {
     "name": "stdout",
     "output_type": "stream",
     "text": [
      "/home/angel/anaconda2/lib/python2.7/site-packages/skbio/stats/ordination/_principal_coordinate_analysis.py:107: RuntimeWarning: The result contains negative eigenvalues. Please compare their magnitude with the magnitude of some of the largest positive eigenvalues. If the negative ones are smaller, it's probably safe to ignore them, but if they are large in magnitude, the results won't be useful. See the Notes section for more details. The smallest eigenvalue is -0.00977397264457 and the largest is 0.520179504834.\n",
      "  RuntimeWarning\n",
      "/home/angel/anaconda2/lib/python2.7/site-packages/matplotlib/collections.py:590: FutureWarning: elementwise comparison failed; returning scalar instead, but in the future will perform elementwise comparison\n",
      "  if self._edgecolors == str('face'):\n",
      "/home/angel/anaconda2/lib/python2.7/site-packages/matplotlib/collections.py:590: FutureWarning: elementwise comparison failed; returning scalar instead, but in the future will perform elementwise comparison\n",
      "  if self._edgecolors == str('face'):\n"
     ]
    }
   ],
   "source": [
    "!core_diversity_analyses.py -o diversity_blast_combined_ncbi/ -i otus_blast_combined_ncbi/otu_table_mc2_w_tax_no_pynast_failures.biom -m /home/angel/Downloads/combined_mapping.txt -t otus_blast_combined_ncbi/rep_set.tre -e 26000 -p params_diverse.txt -aO 16"
   ]
  },
  {
   "cell_type": "code",
   "execution_count": null,
   "metadata": {
    "collapsed": true
   },
   "outputs": [],
   "source": []
  }
 ],
 "metadata": {
  "kernelspec": {
   "display_name": "Python 2",
   "language": "python",
   "name": "python2"
  },
  "language_info": {
   "codemirror_mode": {
    "name": "ipython",
    "version": 2
   },
   "file_extension": ".py",
   "mimetype": "text/x-python",
   "name": "python",
   "nbconvert_exporter": "python",
   "pygments_lexer": "ipython2",
   "version": "2.7.11"
  }
 },
 "nbformat": 4,
 "nbformat_minor": 0
}
